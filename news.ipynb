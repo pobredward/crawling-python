{
 "cells": [
  {
   "cell_type": "code",
   "execution_count": null,
   "id": "15c1c0e2",
   "metadata": {},
   "outputs": [],
   "source": [
    "import requests\n",
    "from bs4 import BeautifulSoup\n",
    "import pyautogui\n",
    "\n",
    "keyword = pyautogui.prompt(\"검색어를 입력하세요\")\n",
    "response = requests.get(f\"https://search.naver.com/search.naver?where=news&sm=tab_jum&query={keyword}&start={num}\")\n",
    "html = response.text"
   ]
  },
  {
   "cell_type": "code",
   "execution_count": null,
   "id": "f39e31b3",
   "metadata": {},
   "outputs": [],
   "source": [
    "pageNum = 1\n",
    "lastPage = int(pyautogui.prompt(\"페이지 수\"))\n",
    "for num in range(1, lastPage*10, 10):\n",
    "    print(f\"{pageNum} 페이지 =============\")\n",
    "    \n",
    "    response = requests.get(f\"https://search.naver.com/search.naver?where=news&sm=tab_jum&query={keyword}&start={num}\")\n",
    "    html = response.text\n",
    "    \n",
    "    soup = BeautifulSoup(html, \"html.parser\")\n",
    "    links = soup.select(\".news_tit\")\n",
    "    for link in links:\n",
    "        title = link.text\n",
    "        url = link.attrs['href']\n",
    "        print(title, url)\n",
    "        \n",
    "    pageNum += 1"
   ]
  }
 ],
 "metadata": {
  "kernelspec": {
   "display_name": "Python 3 (ipykernel)",
   "language": "python",
   "name": "python3"
  },
  "language_info": {
   "codemirror_mode": {
    "name": "ipython",
    "version": 3
   },
   "file_extension": ".py",
   "mimetype": "text/x-python",
   "name": "python",
   "nbconvert_exporter": "python",
   "pygments_lexer": "ipython3",
   "version": "3.9.7"
  }
 },
 "nbformat": 4,
 "nbformat_minor": 5
}
